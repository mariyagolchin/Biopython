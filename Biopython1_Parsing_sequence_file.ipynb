{
  "nbformat": 4,
  "nbformat_minor": 0,
  "metadata": {
    "colab": {
      "name": " Biopython1_Sequence&Parsing sequence file.ipynb",
      "provenance": [],
      "collapsed_sections": [],
      "authorship_tag": "ABX9TyO912nw4dTzmfcU+HWvpS6z",
      "include_colab_link": true
    },
    "kernelspec": {
      "name": "python3",
      "display_name": "Python 3"
    }
  },
  "cells": [
    {
      "cell_type": "markdown",
      "metadata": {
        "id": "view-in-github",
        "colab_type": "text"
      },
      "source": [
        "<a href=\"https://colab.research.google.com/github/mariyagolchin/Biopython/blob/main/Biopython1_Parsing_sequence_file.ipynb\" target=\"_parent\"><img src=\"https://colab.research.google.com/assets/colab-badge.svg\" alt=\"Open In Colab\"/></a>"
      ]
    },
    {
      "cell_type": "markdown",
      "metadata": {
        "id": "7t05edrpRB9z"
      },
      "source": [
        "Working with sequences\n",
        "\n",
        "-The Seq Object\n",
        "\n",
        "-Parsing sequence file formats\n",
        "\n",
        "-Simple FASTA parsing example\n",
        "\n",
        "-Simple GenBank parsing example"
      ]
    },
    {
      "cell_type": "code",
      "metadata": {
        "id": "gS7iaYJ5ACav",
        "colab": {
          "base_uri": "https://localhost:8080/"
        },
        "outputId": "7dfdf30c-abd6-48ab-d685-a2f7188a044e"
      },
      "source": [
        "try:\n",
        "    import google.colab\n",
        "    # Running on Google Colab, so install Biopython first\n",
        "    !pip install biopython\n",
        "except ImportError:\n",
        "    pass"
      ],
      "execution_count": 4,
      "outputs": [
        {
          "output_type": "stream",
          "text": [
            "Collecting biopython\n",
            "\u001b[?25l  Downloading https://files.pythonhosted.org/packages/76/02/8b606c4aa92ff61b5eda71d23b499ab1de57d5e818be33f77b01a6f435a8/biopython-1.78-cp36-cp36m-manylinux1_x86_64.whl (2.3MB)\n",
            "\u001b[K     |████████████████████████████████| 2.3MB 7.2MB/s \n",
            "\u001b[?25hRequirement already satisfied: numpy in /usr/local/lib/python3.6/dist-packages (from biopython) (1.18.5)\n",
            "Installing collected packages: biopython\n",
            "Successfully installed biopython-1.78\n"
          ],
          "name": "stdout"
        }
      ]
    },
    {
      "cell_type": "code",
      "metadata": {
        "colab": {
          "base_uri": "https://localhost:8080/"
        },
        "id": "hzqc3j7ZAfaf",
        "outputId": "1440ae3f-d32c-4d33-dbcf-8ff8a127134c"
      },
      "source": [
        "import Bio\n",
        "print(\"Biopython version:\", Bio.__version__)"
      ],
      "execution_count": 5,
      "outputs": [
        {
          "output_type": "stream",
          "text": [
            "Biopython version: 1.78\n"
          ],
          "name": "stdout"
        }
      ]
    },
    {
      "cell_type": "markdown",
      "metadata": {
        "id": "voLPj0b_CUgr"
      },
      "source": [
        "# The Seq Object\n",
        "The Seq object essentially combines a Python string with biological methods"
      ]
    },
    {
      "cell_type": "code",
      "metadata": {
        "colab": {
          "base_uri": "https://localhost:8080/"
        },
        "id": "0QEZeV-uAl32",
        "outputId": "7295c24c-473a-4654-cff9-ab9ed4f58c09"
      },
      "source": [
        "from Bio.Seq import Seq\n",
        "my_seq = Seq(\"AGTACACTGGT\")\n",
        "my_seq\n"
      ],
      "execution_count": 7,
      "outputs": [
        {
          "output_type": "execute_result",
          "data": {
            "text/plain": [
              "Seq('AGTACACTGGT')"
            ]
          },
          "metadata": {
            "tags": []
          },
          "execution_count": 7
        }
      ]
    },
    {
      "cell_type": "code",
      "metadata": {
        "colab": {
          "base_uri": "https://localhost:8080/"
        },
        "id": "_nXrWCKhCk4F",
        "outputId": "10d0b37d-9b62-48e7-df0d-0b1e76f44d0e"
      },
      "source": [
        "# The Seq object has a number of methods which act just like those of a Python string, for example the find method:\n",
        "my_seq.find('ACT')"
      ],
      "execution_count": 10,
      "outputs": [
        {
          "output_type": "execute_result",
          "data": {
            "text/plain": [
              "5"
            ]
          },
          "metadata": {
            "tags": []
          },
          "execution_count": 10
        }
      ]
    },
    {
      "cell_type": "code",
      "metadata": {
        "colab": {
          "base_uri": "https://localhost:8080/"
        },
        "id": "_qG7t2fKC6g9",
        "outputId": "d4d8cd19-ee4f-46b6-8b68-56638978b898"
      },
      "source": [
        "my_seq.find('AGT')"
      ],
      "execution_count": 11,
      "outputs": [
        {
          "output_type": "execute_result",
          "data": {
            "text/plain": [
              "0"
            ]
          },
          "metadata": {
            "tags": []
          },
          "execution_count": 11
        }
      ]
    },
    {
      "cell_type": "code",
      "metadata": {
        "colab": {
          "base_uri": "https://localhost:8080/"
        },
        "id": "WHgC7cTuDCsN",
        "outputId": "b3bba29f-c26a-4bbc-b334-05911570126a"
      },
      "source": [
        "# There is a count method too:\n",
        "my_seq.count('A')"
      ],
      "execution_count": 12,
      "outputs": [
        {
          "output_type": "execute_result",
          "data": {
            "text/plain": [
              "3"
            ]
          },
          "metadata": {
            "tags": []
          },
          "execution_count": 12
        }
      ]
    },
    {
      "cell_type": "code",
      "metadata": {
        "colab": {
          "base_uri": "https://localhost:8080/"
        },
        "id": "7v9k0wutDeBI",
        "outputId": "d622652d-8fb5-4daf-8feb-a73bf803a5a1"
      },
      "source": [
        "print(my_seq)\n",
        "my_seq.count('GT')"
      ],
      "execution_count": 17,
      "outputs": [
        {
          "output_type": "stream",
          "text": [
            "AGTACACTGGT\n"
          ],
          "name": "stdout"
        },
        {
          "output_type": "execute_result",
          "data": {
            "text/plain": [
              "2"
            ]
          },
          "metadata": {
            "tags": []
          },
          "execution_count": 17
        }
      ]
    },
    {
      "cell_type": "markdown",
      "metadata": {
        "id": "M-s1DgMZD5L0"
      },
      "source": [
        "## Nucleotide *methods*\n",
        "These are very simple - the methods return a new Seq object with the appropriate sequence:"
      ]
    },
    {
      "cell_type": "code",
      "metadata": {
        "colab": {
          "base_uri": "https://localhost:8080/"
        },
        "id": "pwSaXoqLEgxs",
        "outputId": "7c153299-4658-4956-8993-134b16b1caa9"
      },
      "source": [
        "print(\"my_seq=>\", my_seq)\n",
        "my_seq.complement()"
      ],
      "execution_count": 21,
      "outputs": [
        {
          "output_type": "stream",
          "text": [
            "my_seq=> AGTACACTGGT\n"
          ],
          "name": "stdout"
        },
        {
          "output_type": "execute_result",
          "data": {
            "text/plain": [
              "Seq('TCATGTGACCA')"
            ]
          },
          "metadata": {
            "tags": []
          },
          "execution_count": 21
        }
      ]
    },
    {
      "cell_type": "code",
      "metadata": {
        "colab": {
          "base_uri": "https://localhost:8080/"
        },
        "id": "Lq8Cpy-zEz-V",
        "outputId": "bb40a6fe-6386-40c1-9cd2-12f242448a98"
      },
      "source": [
        "my_seq.reverse_complement()"
      ],
      "execution_count": 19,
      "outputs": [
        {
          "output_type": "execute_result",
          "data": {
            "text/plain": [
              "Seq('ACCAGTGTACT')"
            ]
          },
          "metadata": {
            "tags": []
          },
          "execution_count": 19
        }
      ]
    },
    {
      "cell_type": "markdown",
      "metadata": {
        "id": "EMd9ass-IajS"
      },
      "source": [
        "# Transcription and back transcription\n",
        "\n",
        "-convert DNA to RNA: replacing all the thymines with uracil"
      ]
    },
    {
      "cell_type": "code",
      "metadata": {
        "colab": {
          "base_uri": "https://localhost:8080/"
        },
        "id": "caEuPp5gIZFA",
        "outputId": "dd9f2734-87b5-4bd7-af9d-6301cf4cbdc4"
      },
      "source": [
        "my_dna = my_seq\n",
        "print(\"my_dna=>\",my_dna)\n",
        "my_rna = my_dna.transcribe() #replacing all the T with U\n",
        "print(\"my_rna=>\",my_rna)\n",
        "bk_dna= my_rna.back_transcribe()\n",
        "print(\"bk_dna=>\",bk_dna)"
      ],
      "execution_count": 30,
      "outputs": [
        {
          "output_type": "stream",
          "text": [
            "my_dna=> AGTACACTGGT\n",
            "my_rna=> AGUACACUGGU\n",
            "bk_dna=> AGTACACTGGT\n"
          ],
          "name": "stdout"
        }
      ]
    },
    {
      "cell_type": "markdown",
      "metadata": {
        "id": "yDdkKr1rJwDp"
      },
      "source": [
        "# Translation\n",
        "You can translate RNA:"
      ]
    },
    {
      "cell_type": "code",
      "metadata": {
        "colab": {
          "base_uri": "https://localhost:8080/"
        },
        "id": "7X5bJ5iHJxjs",
        "outputId": "3022c72f-876c-428c-fba2-28a982646187"
      },
      "source": [
        "messenger_rna = Seq(\"AUGGCCAUUGUAAUGGGCCGCUGAAAGGGUGCCCGAUAG\")\n",
        "messenger_rna.translate()"
      ],
      "execution_count": 32,
      "outputs": [
        {
          "output_type": "execute_result",
          "data": {
            "text/plain": [
              "Seq('MAIVMGR*KGAR*')"
            ]
          },
          "metadata": {
            "tags": []
          },
          "execution_count": 32
        }
      ]
    },
    {
      "cell_type": "code",
      "metadata": {
        "colab": {
          "base_uri": "https://localhost:8080/"
        },
        "id": "Zzu8Qd8sKB0W",
        "outputId": "e4318512-3a32-41ab-8254-7027e8860fed"
      },
      "source": [
        "coding_dna = Seq(\"ATGGCCATTGTAATGGGCCGCTGAAAGGGTGCCCGATAG\")\n",
        "coding_dna.translate()"
      ],
      "execution_count": 33,
      "outputs": [
        {
          "output_type": "execute_result",
          "data": {
            "text/plain": [
              "Seq('MAIVMGR*KGAR*')"
            ]
          },
          "metadata": {
            "tags": []
          },
          "execution_count": 33
        }
      ]
    },
    {
      "cell_type": "markdown",
      "metadata": {
        "id": "CQaVJ3AsKhvd"
      },
      "source": [
        "# Parsing sequence file formats"
      ]
    },
    {
      "cell_type": "code",
      "metadata": {
        "colab": {
          "base_uri": "https://localhost:8080/"
        },
        "id": "FeZbbCDRLI7E",
        "outputId": "8275b668-e97a-4fa6-aa4d-3cb97aaca234"
      },
      "source": [
        "!wget https://raw.githubusercontent.com/biopython/biopython/master/Doc/examples/ls_orchid.fasta\n"
      ],
      "execution_count": 34,
      "outputs": [
        {
          "output_type": "stream",
          "text": [
            "--2020-11-21 14:19:35--  https://raw.githubusercontent.com/biopython/biopython/master/Doc/examples/ls_orchid.fasta\n",
            "Resolving raw.githubusercontent.com (raw.githubusercontent.com)... 151.101.0.133, 151.101.64.133, 151.101.128.133, ...\n",
            "Connecting to raw.githubusercontent.com (raw.githubusercontent.com)|151.101.0.133|:443... connected.\n",
            "HTTP request sent, awaiting response... 200 OK\n",
            "Length: 76480 (75K) [text/plain]\n",
            "Saving to: ‘ls_orchid.fasta’\n",
            "\n",
            "ls_orchid.fasta     100%[===================>]  74.69K  --.-KB/s    in 0.01s   \n",
            "\n",
            "2020-11-21 14:19:35 (6.12 MB/s) - ‘ls_orchid.fasta’ saved [76480/76480]\n",
            "\n"
          ],
          "name": "stdout"
        }
      ]
    },
    {
      "cell_type": "code",
      "metadata": {
        "colab": {
          "base_uri": "https://localhost:8080/"
        },
        "id": "lRuo832fLPF8",
        "outputId": "0a84b71b-ef6f-4057-fa09-44ff81d6f696"
      },
      "source": [
        "from Bio import SeqIO\n",
        "for seq_record in SeqIO.parse(\"ls_orchid.fasta\", \"fasta\"):\n",
        "  print(seq_record.id)\n",
        "  print(repr(seq_record.seq))\n",
        "  try:\n",
        "    print(seq_record.count('TAC')) \n",
        "  except:\n",
        "    print(\"IOF\")\n",
        "  print(len(seq_record),\"\\n\")\n"
      ],
      "execution_count": 43,
      "outputs": [
        {
          "output_type": "stream",
          "text": [
            "gi|2765658|emb|Z78533.1|CIZ78533\n",
            "Seq('CGTAACAAGGTTTCCGTAGGTGAACCTGCGGAAGGATCATTGATGAGACCGTGG...CGC')\n",
            "IOF\n",
            "740 \n",
            "\n",
            "gi|2765657|emb|Z78532.1|CCZ78532\n",
            "Seq('CGTAACAAGGTTTCCGTAGGTGAACCTGCGGAAGGATCATTGTTGAGACAACAG...GGC')\n",
            "IOF\n",
            "753 \n",
            "\n",
            "gi|2765656|emb|Z78531.1|CFZ78531\n",
            "Seq('CGTAACAAGGTTTCCGTAGGTGAACCTGCGGAAGGATCATTGTTGAGACAGCAG...TAA')\n",
            "IOF\n",
            "748 \n",
            "\n",
            "gi|2765655|emb|Z78530.1|CMZ78530\n",
            "Seq('CGTAACAAGGTTTCCGTAGGTGAACCTGCGGAAGGATCATTGTTGAAACAACAT...CAT')\n",
            "IOF\n",
            "744 \n",
            "\n",
            "gi|2765654|emb|Z78529.1|CLZ78529\n",
            "Seq('ACGGCGAGCTGCCGAAGGACATTGTTGAGACAGCAGAATATACGATTGAGTGAA...AAA')\n",
            "IOF\n",
            "733 \n",
            "\n",
            "gi|2765652|emb|Z78527.1|CYZ78527\n",
            "Seq('CGTAACAAGGTTTCCGTAGGTGAACCTGCGGAAGGATCATTGTTGAGACAGTAG...CCC')\n",
            "IOF\n",
            "718 \n",
            "\n",
            "gi|2765651|emb|Z78526.1|CGZ78526\n",
            "Seq('CGTAACAAGGTTTCCGTAGGTGAACCTGCGGAAGGATCATTGTTGAGACAGTAG...TGT')\n",
            "IOF\n",
            "730 \n",
            "\n",
            "gi|2765650|emb|Z78525.1|CAZ78525\n",
            "Seq('TGTTGAGATAGCAGAATATACATCGAGTGAATCCGGAGGACCTGTGGTTATTCG...GCA')\n",
            "IOF\n",
            "704 \n",
            "\n",
            "gi|2765649|emb|Z78524.1|CFZ78524\n",
            "Seq('CGTAACAAGGTTTCCGTAGGTGAACCTGCGGAAGGATCATTGTTGAGATAGTAG...AGC')\n",
            "IOF\n",
            "740 \n",
            "\n",
            "gi|2765648|emb|Z78523.1|CHZ78523\n",
            "Seq('CGTAACCAGGTTTCCGTAGGTGAACCTGCGGCAGGATCATTGTTGAGACAGCAG...AAG')\n",
            "IOF\n",
            "709 \n",
            "\n",
            "gi|2765647|emb|Z78522.1|CMZ78522\n",
            "Seq('CGTAACAAGGTTTCCGTAGGTGAACCTGCGGAAGGATCATTGTTGAGACAGCAG...GAG')\n",
            "IOF\n",
            "700 \n",
            "\n",
            "gi|2765646|emb|Z78521.1|CCZ78521\n",
            "Seq('GTAGGTGAACCTGCGGAAGGATCATTGTTGAGACAGTAGAATATATGATCGAGT...ACC')\n",
            "IOF\n",
            "726 \n",
            "\n",
            "gi|2765645|emb|Z78520.1|CSZ78520\n",
            "Seq('CGTAACAAGGTTTCCGTAGGTGAACCTGCGGAAGGATCATTGTTGAGACAGCAG...TTT')\n",
            "IOF\n",
            "753 \n",
            "\n",
            "gi|2765644|emb|Z78519.1|CPZ78519\n",
            "Seq('ATATGATCGAGTGAATCTGGTGGACTTGTGGTTACTCAGCTCGCCATAGGCTTT...TTA')\n",
            "IOF\n",
            "699 \n",
            "\n",
            "gi|2765643|emb|Z78518.1|CRZ78518\n",
            "Seq('CGTAACAAGGTTTCCGTAGGTGAACCTGCGGGAGGATCATTGTTGAGATAGTAG...TCC')\n",
            "IOF\n",
            "658 \n",
            "\n",
            "gi|2765642|emb|Z78517.1|CFZ78517\n",
            "Seq('CGTAACAAGGTTTCCGTAGGTGAACCTGCGGAAGGATCATTGTTGAGACAGTAG...AGC')\n",
            "IOF\n",
            "752 \n",
            "\n",
            "gi|2765641|emb|Z78516.1|CPZ78516\n",
            "Seq('CGTAACAAGGTTTCCGTAGGTGAACCTGCGGAAGGATCATTGTTGAGACAGTAT...TAA')\n",
            "IOF\n",
            "726 \n",
            "\n",
            "gi|2765640|emb|Z78515.1|MXZ78515\n",
            "Seq('CGTAACAAGGTTTCCGTAGGTGAACCTGCGGAAGGATCATTGCTGAGACCGTAG...AGC')\n",
            "IOF\n",
            "765 \n",
            "\n",
            "gi|2765639|emb|Z78514.1|PSZ78514\n",
            "Seq('CGTAACAAGGTTTCCGTAGGTGGACCTTCGGGAGGATCATTTTTGAAGCCCCCA...CTA')\n",
            "IOF\n",
            "755 \n",
            "\n",
            "gi|2765638|emb|Z78513.1|PBZ78513\n",
            "Seq('CGTAACAAGGTTTCCGTAGGTGAACCTGCGGAAGGATCATTGTTGAGACCGCCA...GAG')\n",
            "IOF\n",
            "742 \n",
            "\n",
            "gi|2765637|emb|Z78512.1|PWZ78512\n",
            "Seq('CGTAACAAGGTTTCCGTAGGTGGACCTTCGGGAGGATCATTTTTGAAGCCCCCA...AGC')\n",
            "IOF\n",
            "762 \n",
            "\n",
            "gi|2765636|emb|Z78511.1|PEZ78511\n",
            "Seq('CGTAACAAGGTTTCCGTAGGTGAACCTTCGGAAGGATCATTGTTGAGACCCCCA...GGA')\n",
            "IOF\n",
            "745 \n",
            "\n",
            "gi|2765635|emb|Z78510.1|PCZ78510\n",
            "Seq('CTAACCAGGGTTCCGAGGTGACCTTCGGGAGGATTCCTTTTTAAGCCCCCGAAA...TTA')\n",
            "IOF\n",
            "750 \n",
            "\n",
            "gi|2765634|emb|Z78509.1|PPZ78509\n",
            "Seq('CGTAACAAGGTTTCCGTAGGTGAACCTGCGGAAGGATCATTGTTGAGACCGCCA...GGA')\n",
            "IOF\n",
            "731 \n",
            "\n",
            "gi|2765633|emb|Z78508.1|PLZ78508\n",
            "Seq('CGTAACAAGGTTTCCGTAGGTGAACCTGCGGAAGGATCATTGTTGAGACCGCCA...TGA')\n",
            "IOF\n",
            "741 \n",
            "\n",
            "gi|2765632|emb|Z78507.1|PLZ78507\n",
            "Seq('CGTAACAAGGTTTCCGTAGGTGAACCTGCGGAAGGATCATTGTTGAGACCCCCA...TGA')\n",
            "IOF\n",
            "740 \n",
            "\n",
            "gi|2765631|emb|Z78506.1|PLZ78506\n",
            "Seq('CGTAACAAGGTTTCCGTAGGTGAACCTGCGGAAGGATCATTGTTGAGACCGCAA...TGA')\n",
            "IOF\n",
            "727 \n",
            "\n",
            "gi|2765630|emb|Z78505.1|PSZ78505\n",
            "Seq('CGTAACAAGGTTTCCGTAGGTGAACCTGCGGAAGGATCATTGTTGAGACCGCCA...TTT')\n",
            "IOF\n",
            "711 \n",
            "\n",
            "gi|2765629|emb|Z78504.1|PKZ78504\n",
            "Seq('CGTAACAAGGTTTCCGTAGGTGAACCTTCGGAAGGATCATTGTTGAGACCGCAA...TAA')\n",
            "IOF\n",
            "743 \n",
            "\n",
            "gi|2765628|emb|Z78503.1|PCZ78503\n",
            "Seq('CGTAACCAGGTTTCCGTAGGTGAACCTCCGGAAGGATCCTTGTTGAGACCGCCA...TAA')\n",
            "IOF\n",
            "727 \n",
            "\n",
            "gi|2765627|emb|Z78502.1|PBZ78502\n",
            "Seq('CGTAACCAGGTTTCCGTAGGTGAACCTCCGGAAGGATCATTGTTGAGACCGCCA...CGC')\n",
            "IOF\n",
            "757 \n",
            "\n",
            "gi|2765626|emb|Z78501.1|PCZ78501\n",
            "Seq('CGTAACAAGGTTTCCGTAGGTGAACCTGCGGAAGGATCATTGTTGAGACCGCAA...AGA')\n",
            "IOF\n",
            "770 \n",
            "\n",
            "gi|2765625|emb|Z78500.1|PWZ78500\n",
            "Seq('CGTAACAAGGTTTCCGTAGGTGAACCTGCGGAAGGCTCATTGTTGAGACCGCAA...AAG')\n",
            "IOF\n",
            "767 \n",
            "\n",
            "gi|2765624|emb|Z78499.1|PMZ78499\n",
            "Seq('CGTAACAAGGTTTCCGTAGGTGAACCTGCGGAGGGATCATTGTTGAGATCGCAT...ACC')\n",
            "IOF\n",
            "759 \n",
            "\n",
            "gi|2765623|emb|Z78498.1|PMZ78498\n",
            "Seq('CGTAACAAGGTTTCCGTAGGTGAACCTGCGGAAAGGTCATTGTTGAGATCACAT...AGC')\n",
            "IOF\n",
            "750 \n",
            "\n",
            "gi|2765622|emb|Z78497.1|PDZ78497\n",
            "Seq('CGTAACAAGGTTTCCGTAGGTGAACCTGCGGAAGGATCATTGTTGAGATCACAT...AGC')\n",
            "IOF\n",
            "788 \n",
            "\n",
            "gi|2765621|emb|Z78496.1|PAZ78496\n",
            "Seq('CGTAACAAGGTTTCCGTAGGTGAACCTGCGGAAGGATCATTGTTGAGATCGCAT...AGC')\n",
            "IOF\n",
            "774 \n",
            "\n",
            "gi|2765620|emb|Z78495.1|PEZ78495\n",
            "Seq('CGTAACAAGGTTTCCGTAGGTGAACCTCCGGAAGGATCATTGTTGAGATCACAT...GTG')\n",
            "IOF\n",
            "789 \n",
            "\n",
            "gi|2765619|emb|Z78494.1|PNZ78494\n",
            "Seq('CGTAACAAGGTTTCCGTAGGTGAACCTGCGGAAGGATCATTGTTGAGGTCGCAT...AAG')\n",
            "IOF\n",
            "688 \n",
            "\n",
            "gi|2765618|emb|Z78493.1|PGZ78493\n",
            "Seq('CGTAACAAGGATTCCGTAGGTGAACCTGCGGAAGGATCATTGTTGAGATCGCAT...CCC')\n",
            "IOF\n",
            "719 \n",
            "\n",
            "gi|2765617|emb|Z78492.1|PBZ78492\n",
            "Seq('CGTAACAAGGTTTCCGTAGGTGAACCTGCGGAAGGATCATTGTTGAGATCGCAT...ATA')\n",
            "IOF\n",
            "743 \n",
            "\n",
            "gi|2765616|emb|Z78491.1|PCZ78491\n",
            "Seq('CGTAACAAGGTTTCCGTAGGTGAACCTGCGGAAGGATCATTGTTGAGATCGCAT...AGC')\n",
            "IOF\n",
            "737 \n",
            "\n",
            "gi|2765615|emb|Z78490.1|PFZ78490\n",
            "Seq('CGTAACAAGGTTTCCGTAGGTGAACCTGCGGAAGGATCATTGTTGAGATCACAT...TGA')\n",
            "IOF\n",
            "728 \n",
            "\n",
            "gi|2765614|emb|Z78489.1|PDZ78489\n",
            "Seq('CGTAACAAGGTTTCCGTAGGTGAACCTGCGGAAGGATCATTGTTGAGATCACAT...GGC')\n",
            "IOF\n",
            "740 \n",
            "\n",
            "gi|2765613|emb|Z78488.1|PTZ78488\n",
            "Seq('CTGTAGGTGAACCTGCGGAAGGATCATTGTTGAGATCACGCAATAATTGATCGA...GCT')\n",
            "IOF\n",
            "696 \n",
            "\n",
            "gi|2765612|emb|Z78487.1|PHZ78487\n",
            "Seq('CGTAACAAGGTTTCCGTAGGTGAACCTGCGGAAGGATCATTGTTGAGATCACAT...TAA')\n",
            "IOF\n",
            "732 \n",
            "\n",
            "gi|2765611|emb|Z78486.1|PBZ78486\n",
            "Seq('CGTCACGAGGTTTCCGTAGGTGAATCTGCGGGAGGATCATTGTTGAGATCACAT...TGA')\n",
            "IOF\n",
            "731 \n",
            "\n",
            "gi|2765610|emb|Z78485.1|PHZ78485\n",
            "Seq('CTGAACCTGGTGTCCGAAGGTGAATCTGCGGATGGATCATTGTTGAGATATCAT...GTA')\n",
            "IOF\n",
            "735 \n",
            "\n",
            "gi|2765609|emb|Z78484.1|PCZ78484\n",
            "Seq('CGTAACAAGGTTTCCGTAGGTGAACCTGGGGAAGGATCATTGTTGAGATCACAT...TTT')\n",
            "IOF\n",
            "720 \n",
            "\n",
            "gi|2765608|emb|Z78483.1|PVZ78483\n",
            "Seq('CGTAACAAGGTTTCCGTAGGTGAACCTGCGGAAGGATCATTGTTGAGATCACAT...GCA')\n",
            "IOF\n",
            "740 \n",
            "\n",
            "gi|2765607|emb|Z78482.1|PEZ78482\n",
            "Seq('TCTACTGCAGTGACCGAGATTTGCCATCGAGCCTCCTGGGAGCTTTCTTGCTGG...GCA')\n",
            "IOF\n",
            "629 \n",
            "\n",
            "gi|2765606|emb|Z78481.1|PIZ78481\n",
            "Seq('CGTAACAAGGTTTCCGTAGGTGAACCTGCGGAAGGATCATTGTTGAGATCACAT...TGA')\n",
            "IOF\n",
            "572 \n",
            "\n",
            "gi|2765605|emb|Z78480.1|PGZ78480\n",
            "Seq('CGTAACAAGGTTTCCGTAGGTGAACCTGCGGAAGGATCATTGTTGAGATCACAT...TGA')\n",
            "IOF\n",
            "587 \n",
            "\n",
            "gi|2765604|emb|Z78479.1|PPZ78479\n",
            "Seq('CGTAACAAGGTTTCCGTAGGTGAACCTGCGGAAGGATCATTGTTGAGATCACAT...AGT')\n",
            "IOF\n",
            "700 \n",
            "\n",
            "gi|2765603|emb|Z78478.1|PVZ78478\n",
            "Seq('CGTAACAAGGTTTCCGTAGGTGAACCTCCGGAAGGATCAGTGTTGAGATCACAT...GGC')\n",
            "IOF\n",
            "636 \n",
            "\n",
            "gi|2765602|emb|Z78477.1|PVZ78477\n",
            "Seq('CGTAACAAGGTTTCCGTAGGTGAACCTGCGGAAGGATCATTGTTGAGATCACAT...TGC')\n",
            "IOF\n",
            "716 \n",
            "\n",
            "gi|2765601|emb|Z78476.1|PGZ78476\n",
            "Seq('CGTAACAAGGTTTCCGTAGGTGAACCTGCGGAAGGATCATTGTTGAGATCACAT...CCC')\n",
            "IOF\n",
            "592 \n",
            "\n",
            "gi|2765600|emb|Z78475.1|PSZ78475\n",
            "Seq('CGTAACAAGGTTTCCGTAGGTGAACCTGCGGAAGGATCATTGTTGAGATCACAT...GGT')\n",
            "IOF\n",
            "716 \n",
            "\n",
            "gi|2765599|emb|Z78474.1|PKZ78474\n",
            "Seq('CGTAACAAGGTTTCCGTAGGTGAACCTGCGGAAGGATCATTGTTGAGATCACGT...CTT')\n",
            "IOF\n",
            "733 \n",
            "\n",
            "gi|2765598|emb|Z78473.1|PSZ78473\n",
            "Seq('CGTAACAAGGTTTCCGTAGGTGAACCTGCGGAAGGATCATTGTTGAGATCACAT...AGG')\n",
            "IOF\n",
            "626 \n",
            "\n",
            "gi|2765597|emb|Z78472.1|PLZ78472\n",
            "Seq('CGTAACAAGGTTTCCGTAGGTGAACCTGCGGAAGGATCATTGTTGAGATCACAT...AGC')\n",
            "IOF\n",
            "737 \n",
            "\n",
            "gi|2765596|emb|Z78471.1|PDZ78471\n",
            "Seq('CGTAACAAGGTTTCCGTAGGTGAACCTGCGGAAGGATCATTGTTGAGATCACAT...AGC')\n",
            "IOF\n",
            "740 \n",
            "\n",
            "gi|2765595|emb|Z78470.1|PPZ78470\n",
            "Seq('CGTAACAAGGTTTCCGTAGGTGAACCTGCGGAAGGATCATTGTTGAGATCACAT...GTT')\n",
            "IOF\n",
            "574 \n",
            "\n",
            "gi|2765594|emb|Z78469.1|PHZ78469\n",
            "Seq('CGTAACAAGGTTTCCGTAGGTGAACCTGCGGAAGGATCATTGTTGAGATCACAT...GTT')\n",
            "IOF\n",
            "594 \n",
            "\n",
            "gi|2765593|emb|Z78468.1|PAZ78468\n",
            "Seq('CGTAACAAGGTTTCCGTAGGTGAACCTGCGGAAGGATCATTGTTGAGATCGCAT...GTT')\n",
            "IOF\n",
            "610 \n",
            "\n",
            "gi|2765592|emb|Z78467.1|PSZ78467\n",
            "Seq('CGTAACAAGGTTTCCGTAGGTGAACCTGCGGAAGGATCATTGTTGAGATCACAT...TGA')\n",
            "IOF\n",
            "730 \n",
            "\n",
            "gi|2765591|emb|Z78466.1|PPZ78466\n",
            "Seq('CGTAACAAGGTTTCCGTAGGTGAACCTGCGGAAGGATCATTGTTGAGATCACAT...CCC')\n",
            "IOF\n",
            "641 \n",
            "\n",
            "gi|2765590|emb|Z78465.1|PRZ78465\n",
            "Seq('CGTAACAAGGTTTCCGTAGGTGAACCTGCGGAAGGATCATTGTTGAGATCACAT...TGC')\n",
            "IOF\n",
            "702 \n",
            "\n",
            "gi|2765589|emb|Z78464.1|PGZ78464\n",
            "Seq('CGTAACAAGGTTTCCGTAGGTGAGCGGAAGGGTCATTGTTGAGATCACATAATA...AGC')\n",
            "IOF\n",
            "733 \n",
            "\n",
            "gi|2765588|emb|Z78463.1|PGZ78463\n",
            "Seq('CGTAACAAGGTTTCCGTAGGTGAACCTGCGGAAGGTTCATTGTTGAGATCACAT...AGC')\n",
            "IOF\n",
            "738 \n",
            "\n",
            "gi|2765587|emb|Z78462.1|PSZ78462\n",
            "Seq('CGTCACGAGGTCTCCGGATGTGACCCTGCGGAAGGATCATTGTTGAGATCACAT...CAT')\n",
            "IOF\n",
            "736 \n",
            "\n",
            "gi|2765586|emb|Z78461.1|PWZ78461\n",
            "Seq('CGTAACAAGGTTTCCGTAGGTGAACCTCCGGAAGGATCATTGTTGAGATCACAT...TAA')\n",
            "IOF\n",
            "732 \n",
            "\n",
            "gi|2765585|emb|Z78460.1|PCZ78460\n",
            "Seq('CGTAACAAGGTTTCCGTAGGTGAACCTCCGGAAGGATCATTGTTGAGATCACAT...TTA')\n",
            "IOF\n",
            "745 \n",
            "\n",
            "gi|2765584|emb|Z78459.1|PDZ78459\n",
            "Seq('CGTAACAAGGTTTCCGTAGGTGAACCTGCGGAAGGATCATTGTTGAGATCACAT...TTT')\n",
            "IOF\n",
            "744 \n",
            "\n",
            "gi|2765583|emb|Z78458.1|PHZ78458\n",
            "Seq('CGTAACAAGGTTTCCGTAGGTGAACCTGCGGAAGGATCATTGTTGAGATCACAT...TTG')\n",
            "IOF\n",
            "738 \n",
            "\n",
            "gi|2765582|emb|Z78457.1|PCZ78457\n",
            "Seq('CGTAACAAGGTTTCCGTAGGTGAACCTCCGGAAGGATCATTGTTGAGATCACAT...GAG')\n",
            "IOF\n",
            "739 \n",
            "\n",
            "gi|2765581|emb|Z78456.1|PTZ78456\n",
            "Seq('CGTAACAAGGTTTCCGTAGGTGAACCTGCGGAAGGATCATTGTTGAGATCACAT...AGC')\n",
            "IOF\n",
            "740 \n",
            "\n",
            "gi|2765580|emb|Z78455.1|PJZ78455\n",
            "Seq('CGTAACCAGGTTTCCGTAGGTGGACCTTCGGGAGGATCATTTTTGAGATCACAT...GCA')\n",
            "IOF\n",
            "745 \n",
            "\n",
            "gi|2765579|emb|Z78454.1|PFZ78454\n",
            "Seq('CGTAACAAGGTTTCCGTAGGTGAACCTGCGGAAGGATCATTGTTGAGATCACAT...AAC')\n",
            "IOF\n",
            "695 \n",
            "\n",
            "gi|2765578|emb|Z78453.1|PSZ78453\n",
            "Seq('CGTAACAAGGTTTCCGTAGGTGAACCTGCGGAAGGATCATTGTTGAGATCACAT...GCA')\n",
            "IOF\n",
            "745 \n",
            "\n",
            "gi|2765577|emb|Z78452.1|PBZ78452\n",
            "Seq('CGTAACAAGGTTTCCGTAGGTGAACCTGCGGAAGGATCATTGTTGAGATCACAT...GCA')\n",
            "IOF\n",
            "743 \n",
            "\n",
            "gi|2765576|emb|Z78451.1|PHZ78451\n",
            "Seq('CGTAACAAGGTTTCCGTAGGTGTACCTCCGGAAGGATCATTGTTGAGATCACAT...AGC')\n",
            "IOF\n",
            "730 \n",
            "\n",
            "gi|2765575|emb|Z78450.1|PPZ78450\n",
            "Seq('GGAAGGATCATTGCTGATATCACATAATAATTGATCGAGTTAAGCTGGAGGATC...GAG')\n",
            "IOF\n",
            "706 \n",
            "\n",
            "gi|2765574|emb|Z78449.1|PMZ78449\n",
            "Seq('CGTAACAAGGTTTCCGTAGGTGAACCTGCGGAAGGATCATTGTTGAGATCACAT...TGC')\n",
            "IOF\n",
            "744 \n",
            "\n",
            "gi|2765573|emb|Z78448.1|PAZ78448\n",
            "Seq('CGTAACAAGGTTTCCGTAGGTGAACCTGCGGAAGGATCATTGTTGAGATCACAT...AGG')\n",
            "IOF\n",
            "742 \n",
            "\n",
            "gi|2765572|emb|Z78447.1|PVZ78447\n",
            "Seq('CGTAACAAGGATTCCGTAGGTGAACCTGCGGGAGGATCATTGTTGAGATCACAT...AGC')\n",
            "IOF\n",
            "694 \n",
            "\n",
            "gi|2765571|emb|Z78446.1|PAZ78446\n",
            "Seq('CGTAACAAGGTTTCCGTAGGTGAACCTCCGGAAGGATCATTGTTGAGATCACAT...CCC')\n",
            "IOF\n",
            "712 \n",
            "\n",
            "gi|2765570|emb|Z78445.1|PUZ78445\n",
            "Seq('CGTAACAAGGTTTCCGTAGGTGAACCTGCGGAAGGATCATTGTTGAGATCACAT...TGT')\n",
            "IOF\n",
            "715 \n",
            "\n",
            "gi|2765569|emb|Z78444.1|PAZ78444\n",
            "Seq('CGTAACAAGGTTTCCGTAGGGTGAACTGCGGAAGGATCATTGTTGAGATCACAT...ATT')\n",
            "IOF\n",
            "688 \n",
            "\n",
            "gi|2765568|emb|Z78443.1|PLZ78443\n",
            "Seq('CGTAACAAGGTTTCCGTAGGTGAACCTGCGGAAGGATCATTGTTGAGATCACAT...AGG')\n",
            "IOF\n",
            "784 \n",
            "\n",
            "gi|2765567|emb|Z78442.1|PBZ78442\n",
            "Seq('GTAGGTGAACCTGCGGAAGGATCATTGTTGAGATCACATAATAATTGATCGAGT...AGT')\n",
            "IOF\n",
            "721 \n",
            "\n",
            "gi|2765566|emb|Z78441.1|PSZ78441\n",
            "Seq('GGAAGGTCATTGCCGATATCACATAATAATTGATCGAGTTAATCTGGAGGATCT...GAG')\n",
            "IOF\n",
            "703 \n",
            "\n",
            "gi|2765565|emb|Z78440.1|PPZ78440\n",
            "Seq('CGTAACAAGGTTTCCGTAGGTGGACCTCCGGGAGGATCATTGTTGAGATCACAT...GCA')\n",
            "IOF\n",
            "744 \n",
            "\n",
            "gi|2765564|emb|Z78439.1|PBZ78439\n",
            "Seq('CATTGTTGAGATCACATAATAATTGATCGAGTTAATCTGGAGGATCTGTTTACT...GCC')\n",
            "IOF\n",
            "592 \n",
            "\n"
          ],
          "name": "stdout"
        }
      ]
    },
    {
      "cell_type": "markdown",
      "metadata": {
        "id": "mwb7x6OxPam8"
      },
      "source": [
        "# Simple GenBank parsing example"
      ]
    },
    {
      "cell_type": "code",
      "metadata": {
        "colab": {
          "base_uri": "https://localhost:8080/"
        },
        "id": "B1NXFa60Oeo_",
        "outputId": "fbaf2aaf-1cb6-4137-f00b-e93e4b7cd9f8"
      },
      "source": [
        "!wget https://raw.githubusercontent.com/biopython/biopython/master/Doc/examples/ls_orchid.gbk"
      ],
      "execution_count": 44,
      "outputs": [
        {
          "output_type": "stream",
          "text": [
            "--2020-11-21 14:34:23--  https://raw.githubusercontent.com/biopython/biopython/master/Doc/examples/ls_orchid.gbk\n",
            "Resolving raw.githubusercontent.com (raw.githubusercontent.com)... 151.101.0.133, 151.101.64.133, 151.101.128.133, ...\n",
            "Connecting to raw.githubusercontent.com (raw.githubusercontent.com)|151.101.0.133|:443... connected.\n",
            "HTTP request sent, awaiting response... 200 OK\n",
            "Length: 235482 (230K) [text/plain]\n",
            "Saving to: ‘ls_orchid.gbk’\n",
            "\n",
            "ls_orchid.gbk       100%[===================>] 229.96K  --.-KB/s    in 0.03s   \n",
            "\n",
            "2020-11-21 14:34:24 (8.75 MB/s) - ‘ls_orchid.gbk’ saved [235482/235482]\n",
            "\n"
          ],
          "name": "stdout"
        }
      ]
    },
    {
      "cell_type": "code",
      "metadata": {
        "colab": {
          "base_uri": "https://localhost:8080/"
        },
        "id": "CLnq_CImPrcL",
        "outputId": "dd01e53a-20b4-4621-ecbb-19ebcfeb8f51"
      },
      "source": [
        "from Bio import SeqIO\n",
        "for seq_record in SeqIO.parse(\"ls_orchid.gbk\", \"genbank\"):\n",
        "    print(seq_record.id)\n",
        "    print(repr(seq_record.seq))\n",
        "    print(len(seq_record))"
      ],
      "execution_count": 45,
      "outputs": [
        {
          "output_type": "stream",
          "text": [
            "Z78533.1\n",
            "Seq('CGTAACAAGGTTTCCGTAGGTGAACCTGCGGAAGGATCATTGATGAGACCGTGG...CGC')\n",
            "740\n",
            "Z78532.1\n",
            "Seq('CGTAACAAGGTTTCCGTAGGTGAACCTGCGGAAGGATCATTGTTGAGACAACAG...GGC')\n",
            "753\n",
            "Z78531.1\n",
            "Seq('CGTAACAAGGTTTCCGTAGGTGAACCTGCGGAAGGATCATTGTTGAGACAGCAG...TAA')\n",
            "748\n",
            "Z78530.1\n",
            "Seq('CGTAACAAGGTTTCCGTAGGTGAACCTGCGGAAGGATCATTGTTGAAACAACAT...CAT')\n",
            "744\n",
            "Z78529.1\n",
            "Seq('ACGGCGAGCTGCCGAAGGACATTGTTGAGACAGCAGAATATACGATTGAGTGAA...AAA')\n",
            "733\n",
            "Z78527.1\n",
            "Seq('CGTAACAAGGTTTCCGTAGGTGAACCTGCGGAAGGATCATTGTTGAGACAGTAG...CCC')\n",
            "718\n",
            "Z78526.1\n",
            "Seq('CGTAACAAGGTTTCCGTAGGTGAACCTGCGGAAGGATCATTGTTGAGACAGTAG...TGT')\n",
            "730\n",
            "Z78525.1\n",
            "Seq('TGTTGAGATAGCAGAATATACATCGAGTGAATCCGGAGGACCTGTGGTTATTCG...GCA')\n",
            "704\n",
            "Z78524.1\n",
            "Seq('CGTAACAAGGTTTCCGTAGGTGAACCTGCGGAAGGATCATTGTTGAGATAGTAG...AGC')\n",
            "740\n",
            "Z78523.1\n",
            "Seq('CGTAACCAGGTTTCCGTAGGTGAACCTGCGGCAGGATCATTGTTGAGACAGCAG...AAG')\n",
            "709\n",
            "Z78522.1\n",
            "Seq('CGTAACAAGGTTTCCGTAGGTGAACCTGCGGAAGGATCATTGTTGAGACAGCAG...GAG')\n",
            "700\n",
            "Z78521.1\n",
            "Seq('GTAGGTGAACCTGCGGAAGGATCATTGTTGAGACAGTAGAATATATGATCGAGT...ACC')\n",
            "726\n",
            "Z78520.1\n",
            "Seq('CGTAACAAGGTTTCCGTAGGTGAACCTGCGGAAGGATCATTGTTGAGACAGCAG...TTT')\n",
            "753\n",
            "Z78519.1\n",
            "Seq('ATATGATCGAGTGAATCTGGTGGACTTGTGGTTACTCAGCTCGCCATAGGCTTT...TTA')\n",
            "699\n",
            "Z78518.1\n",
            "Seq('CGTAACAAGGTTTCCGTAGGTGAACCTGCGGGAGGATCATTGTTGAGATAGTAG...TCC')\n",
            "658\n",
            "Z78517.1\n",
            "Seq('CGTAACAAGGTTTCCGTAGGTGAACCTGCGGAAGGATCATTGTTGAGACAGTAG...AGC')\n",
            "752\n",
            "Z78516.1\n",
            "Seq('CGTAACAAGGTTTCCGTAGGTGAACCTGCGGAAGGATCATTGTTGAGACAGTAT...TAA')\n",
            "726\n",
            "Z78515.1\n",
            "Seq('CGTAACAAGGTTTCCGTAGGTGAACCTGCGGAAGGATCATTGCTGAGACCGTAG...AGC')\n",
            "765\n",
            "Z78514.1\n",
            "Seq('CGTAACAAGGTTTCCGTAGGTGGACCTTCGGGAGGATCATTTTTGAAGCCCCCA...CTA')\n",
            "755\n",
            "Z78513.1\n",
            "Seq('CGTAACAAGGTTTCCGTAGGTGAACCTGCGGAAGGATCATTGTTGAGACCGCCA...GAG')\n",
            "742\n",
            "Z78512.1\n",
            "Seq('CGTAACAAGGTTTCCGTAGGTGGACCTTCGGGAGGATCATTTTTGAAGCCCCCA...AGC')\n",
            "762\n",
            "Z78511.1\n",
            "Seq('CGTAACAAGGTTTCCGTAGGTGAACCTTCGGAAGGATCATTGTTGAGACCCCCA...GGA')\n",
            "745\n",
            "Z78510.1\n",
            "Seq('CTAACCAGGGTTCCGAGGTGACCTTCGGGAGGATTCCTTTTTAAGCCCCCGAAA...TTA')\n",
            "750\n",
            "Z78509.1\n",
            "Seq('CGTAACAAGGTTTCCGTAGGTGAACCTGCGGAAGGATCATTGTTGAGACCGCCA...GGA')\n",
            "731\n",
            "Z78508.1\n",
            "Seq('CGTAACAAGGTTTCCGTAGGTGAACCTGCGGAAGGATCATTGTTGAGACCGCCA...TGA')\n",
            "741\n",
            "Z78507.1\n",
            "Seq('CGTAACAAGGTTTCCGTAGGTGAACCTGCGGAAGGATCATTGTTGAGACCCCCA...TGA')\n",
            "740\n",
            "Z78506.1\n",
            "Seq('CGTAACAAGGTTTCCGTAGGTGAACCTGCGGAAGGATCATTGTTGAGACCGCAA...TGA')\n",
            "727\n",
            "Z78505.1\n",
            "Seq('CGTAACAAGGTTTCCGTAGGTGAACCTGCGGAAGGATCATTGTTGAGACCGCCA...TTT')\n",
            "711\n",
            "Z78504.1\n",
            "Seq('CGTAACAAGGTTTCCGTAGGTGAACCTTCGGAAGGATCATTGTTGAGACCGCAA...TAA')\n",
            "743\n",
            "Z78503.1\n",
            "Seq('CGTAACCAGGTTTCCGTAGGTGAACCTCCGGAAGGATCCTTGTTGAGACCGCCA...TAA')\n",
            "727\n",
            "Z78502.1\n",
            "Seq('CGTAACCAGGTTTCCGTAGGTGAACCTCCGGAAGGATCATTGTTGAGACCGCCA...CGC')\n",
            "757\n",
            "Z78501.1\n",
            "Seq('CGTAACAAGGTTTCCGTAGGTGAACCTGCGGAAGGATCATTGTTGAGACCGCAA...AGA')\n",
            "770\n",
            "Z78500.1\n",
            "Seq('CGTAACAAGGTTTCCGTAGGTGAACCTGCGGAAGGCTCATTGTTGAGACCGCAA...AAG')\n",
            "767\n",
            "Z78499.1\n",
            "Seq('CGTAACAAGGTTTCCGTAGGTGAACCTGCGGAGGGATCATTGTTGAGATCGCAT...ACC')\n",
            "759\n",
            "Z78498.1\n",
            "Seq('CGTAACAAGGTTTCCGTAGGTGAACCTGCGGAAAGGTCATTGTTGAGATCACAT...AGC')\n",
            "750\n",
            "Z78497.1\n",
            "Seq('CGTAACAAGGTTTCCGTAGGTGAACCTGCGGAAGGATCATTGTTGAGATCACAT...AGC')\n",
            "788\n",
            "Z78496.1\n",
            "Seq('CGTAACAAGGTTTCCGTAGGTGAACCTGCGGAAGGATCATTGTTGAGATCGCAT...AGC')\n",
            "774\n",
            "Z78495.1\n",
            "Seq('CGTAACAAGGTTTCCGTAGGTGAACCTCCGGAAGGATCATTGTTGAGATCACAT...GTG')\n",
            "789\n",
            "Z78494.1\n",
            "Seq('CGTAACAAGGTTTCCGTAGGTGAACCTGCGGAAGGATCATTGTTGAGGTCGCAT...AAG')\n",
            "688\n",
            "Z78493.1\n",
            "Seq('CGTAACAAGGATTCCGTAGGTGAACCTGCGGAAGGATCATTGTTGAGATCGCAT...CCC')\n",
            "719\n",
            "Z78492.1\n",
            "Seq('CGTAACAAGGTTTCCGTAGGTGAACCTGCGGAAGGATCATTGTTGAGATCGCAT...ATA')\n",
            "743\n",
            "Z78491.1\n",
            "Seq('CGTAACAAGGTTTCCGTAGGTGAACCTGCGGAAGGATCATTGTTGAGATCGCAT...AGC')\n",
            "737\n",
            "Z78490.1\n",
            "Seq('CGTAACAAGGTTTCCGTAGGTGAACCTGCGGAAGGATCATTGTTGAGATCACAT...TGA')\n",
            "728\n",
            "Z78489.1\n",
            "Seq('CGTAACAAGGTTTCCGTAGGTGAACCTGCGGAAGGATCATTGTTGAGATCACAT...GGC')\n",
            "740\n",
            "Z78488.1\n",
            "Seq('CTGTAGGTGAACCTGCGGAAGGATCATTGTTGAGATCACGCAATAATTGATCGA...GCT')\n",
            "696\n",
            "Z78487.1\n",
            "Seq('CGTAACAAGGTTTCCGTAGGTGAACCTGCGGAAGGATCATTGTTGAGATCACAT...TAA')\n",
            "732\n",
            "Z78486.1\n",
            "Seq('CGTCACGAGGTTTCCGTAGGTGAATCTGCGGGAGGATCATTGTTGAGATCACAT...TGA')\n",
            "731\n",
            "Z78485.1\n",
            "Seq('CTGAACCTGGTGTCCGAAGGTGAATCTGCGGATGGATCATTGTTGAGATATCAT...GTA')\n",
            "735\n",
            "Z78484.1\n",
            "Seq('CGTAACAAGGTTTCCGTAGGTGAACCTGGGGAAGGATCATTGTTGAGATCACAT...TTT')\n",
            "720\n",
            "Z78483.1\n",
            "Seq('CGTAACAAGGTTTCCGTAGGTGAACCTGCGGAAGGATCATTGTTGAGATCACAT...GCA')\n",
            "740\n",
            "Z78482.1\n",
            "Seq('TCTACTGCAGTGACCGAGATTTGCCATCGAGCCTCCTGGGAGCTTTCTTGCTGG...GCA')\n",
            "629\n",
            "Z78481.1\n",
            "Seq('CGTAACAAGGTTTCCGTAGGTGAACCTGCGGAAGGATCATTGTTGAGATCACAT...TGA')\n",
            "572\n",
            "Z78480.1\n",
            "Seq('CGTAACAAGGTTTCCGTAGGTGAACCTGCGGAAGGATCATTGTTGAGATCACAT...TGA')\n",
            "587\n",
            "Z78479.1\n",
            "Seq('CGTAACAAGGTTTCCGTAGGTGAACCTGCGGAAGGATCATTGTTGAGATCACAT...AGT')\n",
            "700\n",
            "Z78478.1\n",
            "Seq('CGTAACAAGGTTTCCGTAGGTGAACCTCCGGAAGGATCAGTGTTGAGATCACAT...GGC')\n",
            "636\n",
            "Z78477.1\n",
            "Seq('CGTAACAAGGTTTCCGTAGGTGAACCTGCGGAAGGATCATTGTTGAGATCACAT...TGC')\n",
            "716\n",
            "Z78476.1\n",
            "Seq('CGTAACAAGGTTTCCGTAGGTGAACCTGCGGAAGGATCATTGTTGAGATCACAT...CCC')\n",
            "592\n",
            "Z78475.1\n",
            "Seq('CGTAACAAGGTTTCCGTAGGTGAACCTGCGGAAGGATCATTGTTGAGATCACAT...GGT')\n",
            "716\n",
            "Z78474.1\n",
            "Seq('CGTAACAAGGTTTCCGTAGGTGAACCTGCGGAAGGATCATTGTTGAGATCACGT...CTT')\n",
            "733\n",
            "Z78473.1\n",
            "Seq('CGTAACAAGGTTTCCGTAGGTGAACCTGCGGAAGGATCATTGTTGAGATCACAT...AGG')\n",
            "626\n",
            "Z78472.1\n",
            "Seq('CGTAACAAGGTTTCCGTAGGTGAACCTGCGGAAGGATCATTGTTGAGATCACAT...AGC')\n",
            "737\n",
            "Z78471.1\n",
            "Seq('CGTAACAAGGTTTCCGTAGGTGAACCTGCGGAAGGATCATTGTTGAGATCACAT...AGC')\n",
            "740\n",
            "Z78470.1\n",
            "Seq('CGTAACAAGGTTTCCGTAGGTGAACCTGCGGAAGGATCATTGTTGAGATCACAT...GTT')\n",
            "574\n",
            "Z78469.1\n",
            "Seq('CGTAACAAGGTTTCCGTAGGTGAACCTGCGGAAGGATCATTGTTGAGATCACAT...GTT')\n",
            "594\n",
            "Z78468.1\n",
            "Seq('CGTAACAAGGTTTCCGTAGGTGAACCTGCGGAAGGATCATTGTTGAGATCGCAT...GTT')\n",
            "610\n",
            "Z78467.1\n",
            "Seq('CGTAACAAGGTTTCCGTAGGTGAACCTGCGGAAGGATCATTGTTGAGATCACAT...TGA')\n",
            "730\n",
            "Z78466.1\n",
            "Seq('CGTAACAAGGTTTCCGTAGGTGAACCTGCGGAAGGATCATTGTTGAGATCACAT...CCC')\n",
            "641\n",
            "Z78465.1\n",
            "Seq('CGTAACAAGGTTTCCGTAGGTGAACCTGCGGAAGGATCATTGTTGAGATCACAT...TGC')\n",
            "702\n",
            "Z78464.1\n",
            "Seq('CGTAACAAGGTTTCCGTAGGTGAGCGGAAGGGTCATTGTTGAGATCACATAATA...AGC')\n",
            "733\n",
            "Z78463.1\n",
            "Seq('CGTAACAAGGTTTCCGTAGGTGAACCTGCGGAAGGTTCATTGTTGAGATCACAT...AGC')\n",
            "738\n",
            "Z78462.1\n",
            "Seq('CGTCACGAGGTCTCCGGATGTGACCCTGCGGAAGGATCATTGTTGAGATCACAT...CAT')\n",
            "736\n",
            "Z78461.1\n",
            "Seq('CGTAACAAGGTTTCCGTAGGTGAACCTCCGGAAGGATCATTGTTGAGATCACAT...TAA')\n",
            "732\n",
            "Z78460.1\n",
            "Seq('CGTAACAAGGTTTCCGTAGGTGAACCTCCGGAAGGATCATTGTTGAGATCACAT...TTA')\n",
            "745\n",
            "Z78459.1\n",
            "Seq('CGTAACAAGGTTTCCGTAGGTGAACCTGCGGAAGGATCATTGTTGAGATCACAT...TTT')\n",
            "744\n",
            "Z78458.1\n",
            "Seq('CGTAACAAGGTTTCCGTAGGTGAACCTGCGGAAGGATCATTGTTGAGATCACAT...TTG')\n",
            "738\n",
            "Z78457.1\n",
            "Seq('CGTAACAAGGTTTCCGTAGGTGAACCTCCGGAAGGATCATTGTTGAGATCACAT...GAG')\n",
            "739\n",
            "Z78456.1\n",
            "Seq('CGTAACAAGGTTTCCGTAGGTGAACCTGCGGAAGGATCATTGTTGAGATCACAT...AGC')\n",
            "740\n",
            "Z78455.1\n",
            "Seq('CGTAACCAGGTTTCCGTAGGTGGACCTTCGGGAGGATCATTTTTGAGATCACAT...GCA')\n",
            "745\n",
            "Z78454.1\n",
            "Seq('CGTAACAAGGTTTCCGTAGGTGAACCTGCGGAAGGATCATTGTTGAGATCACAT...AAC')\n",
            "695\n",
            "Z78453.1\n",
            "Seq('CGTAACAAGGTTTCCGTAGGTGAACCTGCGGAAGGATCATTGTTGAGATCACAT...GCA')\n",
            "745\n",
            "Z78452.1\n",
            "Seq('CGTAACAAGGTTTCCGTAGGTGAACCTGCGGAAGGATCATTGTTGAGATCACAT...GCA')\n",
            "743\n",
            "Z78451.1\n",
            "Seq('CGTAACAAGGTTTCCGTAGGTGTACCTCCGGAAGGATCATTGTTGAGATCACAT...AGC')\n",
            "730\n",
            "Z78450.1\n",
            "Seq('GGAAGGATCATTGCTGATATCACATAATAATTGATCGAGTTAAGCTGGAGGATC...GAG')\n",
            "706\n",
            "Z78449.1\n",
            "Seq('CGTAACAAGGTTTCCGTAGGTGAACCTGCGGAAGGATCATTGTTGAGATCACAT...TGC')\n",
            "744\n",
            "Z78448.1\n",
            "Seq('CGTAACAAGGTTTCCGTAGGTGAACCTGCGGAAGGATCATTGTTGAGATCACAT...AGG')\n",
            "742\n",
            "Z78447.1\n",
            "Seq('CGTAACAAGGATTCCGTAGGTGAACCTGCGGGAGGATCATTGTTGAGATCACAT...AGC')\n",
            "694\n",
            "Z78446.1\n",
            "Seq('CGTAACAAGGTTTCCGTAGGTGAACCTCCGGAAGGATCATTGTTGAGATCACAT...CCC')\n",
            "712\n",
            "Z78445.1\n",
            "Seq('CGTAACAAGGTTTCCGTAGGTGAACCTGCGGAAGGATCATTGTTGAGATCACAT...TGT')\n",
            "715\n",
            "Z78444.1\n",
            "Seq('CGTAACAAGGTTTCCGTAGGGTGAACTGCGGAAGGATCATTGTTGAGATCACAT...ATT')\n",
            "688\n",
            "Z78443.1\n",
            "Seq('CGTAACAAGGTTTCCGTAGGTGAACCTGCGGAAGGATCATTGTTGAGATCACAT...AGG')\n",
            "784\n",
            "Z78442.1\n",
            "Seq('GTAGGTGAACCTGCGGAAGGATCATTGTTGAGATCACATAATAATTGATCGAGT...AGT')\n",
            "721\n",
            "Z78441.1\n",
            "Seq('GGAAGGTCATTGCCGATATCACATAATAATTGATCGAGTTAATCTGGAGGATCT...GAG')\n",
            "703\n",
            "Z78440.1\n",
            "Seq('CGTAACAAGGTTTCCGTAGGTGGACCTCCGGGAGGATCATTGTTGAGATCACAT...GCA')\n",
            "744\n",
            "Z78439.1\n",
            "Seq('CATTGTTGAGATCACATAATAATTGATCGAGTTAATCTGGAGGATCTGTTTACT...GCC')\n",
            "592\n"
          ],
          "name": "stdout"
        }
      ]
    }
  ]
}