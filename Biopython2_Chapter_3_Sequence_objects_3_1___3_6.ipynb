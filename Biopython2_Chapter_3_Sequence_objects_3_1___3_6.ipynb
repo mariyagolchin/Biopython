{
  "nbformat": 4,
  "nbformat_minor": 0,
  "metadata": {
    "colab": {
      "name": "Biopython2_Chapter 3 Sequence objects_3.1___3.6.ipynb",
      "provenance": [],
      "authorship_tag": "ABX9TyNDuwn7sCD9+6+fIYEY/tZc",
      "include_colab_link": true
    },
    "kernelspec": {
      "name": "python3",
      "display_name": "Python 3"
    }
  },
  "cells": [
    {
      "cell_type": "markdown",
      "metadata": {
        "id": "view-in-github",
        "colab_type": "text"
      },
      "source": [
        "<a href=\"https://colab.research.google.com/github/mariyagolchin/Biopython/blob/main/Biopython2_Chapter_3_Sequence_objects_3_1___3_6.ipynb\" target=\"_parent\"><img src=\"https://colab.research.google.com/assets/colab-badge.svg\" alt=\"Open In Colab\"/></a>"
      ]
    },
    {
      "cell_type": "markdown",
      "metadata": {
        "id": "fytWzi3yesH4"
      },
      "source": [
        "http://biopython.org/DIST/docs/tutorial/Tutorial.html#sec17\n",
        "\n",
        "Chapter 3  Sequence objects:\n",
        "\n",
        "3.1  Sequences act like strings\n",
        "\n",
        "3.2  Slicing a sequence\n",
        "\n",
        "3.3  Turning Seq objects into strings\n",
        "\n",
        "3.4  Concatenating or adding sequences\n",
        "\n",
        "3.5  Changing case\n",
        "\n",
        "3.6  Nucleotide sequences and (reverse) complements\n",
        "\n",
        "\n"
      ]
    },
    {
      "cell_type": "code",
      "metadata": {
        "colab": {
          "base_uri": "https://localhost:8080/"
        },
        "id": "LCa7xlZuYZ4q",
        "outputId": "4753836f-f951-4b1d-9b53-711a04c22899"
      },
      "source": [
        "try:\n",
        "    import google.colab\n",
        "    # Running on Google Colab, so install Biopython first\n",
        "    !pip install biopython\n",
        "except ImportError:\n",
        "    pass"
      ],
      "execution_count": 2,
      "outputs": [
        {
          "output_type": "stream",
          "text": [
            "Collecting biopython\n",
            "\u001b[?25l  Downloading https://files.pythonhosted.org/packages/76/02/8b606c4aa92ff61b5eda71d23b499ab1de57d5e818be33f77b01a6f435a8/biopython-1.78-cp36-cp36m-manylinux1_x86_64.whl (2.3MB)\n",
            "\u001b[K     |████████████████████████████████| 2.3MB 5.8MB/s \n",
            "\u001b[?25hRequirement already satisfied: numpy in /usr/local/lib/python3.6/dist-packages (from biopython) (1.18.5)\n",
            "Installing collected packages: biopython\n",
            "Successfully installed biopython-1.78\n"
          ],
          "name": "stdout"
        }
      ]
    },
    {
      "cell_type": "markdown",
      "metadata": {
        "id": "yx83MEbzfQNm"
      },
      "source": [
        "# 3.1 Sequences act like strings"
      ]
    },
    {
      "cell_type": "code",
      "metadata": {
        "colab": {
          "base_uri": "https://localhost:8080/"
        },
        "id": "CmKy5Mf5S97T",
        "outputId": "77cd0ac1-87cf-4926-ed16-f69e2222fe9c"
      },
      "source": [
        "# Sequences act like strings\n",
        "from Bio.Seq import Seq\n",
        "my_seq = Seq(\"GATCG\")\n",
        "for index, letter in enumerate(my_seq):\n",
        "  print(\"%i %s\" % (index, letter))"
      ],
      "execution_count": 3,
      "outputs": [
        {
          "output_type": "stream",
          "text": [
            "0 G\n",
            "1 A\n",
            "2 T\n",
            "3 C\n",
            "4 G\n"
          ],
          "name": "stdout"
        }
      ]
    },
    {
      "cell_type": "code",
      "metadata": {
        "colab": {
          "base_uri": "https://localhost:8080/"
        },
        "id": "vLwzNhvNZUyz",
        "outputId": "added7f3-a62a-4c8b-9d05-730eee8ccca6"
      },
      "source": [
        "len(my_seq)"
      ],
      "execution_count": 4,
      "outputs": [
        {
          "output_type": "execute_result",
          "data": {
            "text/plain": [
              "5"
            ]
          },
          "metadata": {
            "tags": []
          },
          "execution_count": 4
        }
      ]
    },
    {
      "cell_type": "code",
      "metadata": {
        "colab": {
          "base_uri": "https://localhost:8080/",
          "height": 35
        },
        "id": "yw7oSAFBZfBY",
        "outputId": "03cd2db1-2d63-44e4-bc31-21cf7eb90c66"
      },
      "source": [
        "# You can access elements of the sequence in the same way as for strings (but remember, Python counts from zero!):\n",
        "my_seq[0]"
      ],
      "execution_count": 5,
      "outputs": [
        {
          "output_type": "execute_result",
          "data": {
            "application/vnd.google.colaboratory.intrinsic+json": {
              "type": "string"
            },
            "text/plain": [
              "'G'"
            ]
          },
          "metadata": {
            "tags": []
          },
          "execution_count": 5
        }
      ]
    },
    {
      "cell_type": "code",
      "metadata": {
        "colab": {
          "base_uri": "https://localhost:8080/"
        },
        "id": "oJfkE-Q2ZnjM",
        "outputId": "2eef921f-1dd2-4135-c7ac-5bb48e9a2ad5"
      },
      "source": [
        "# The Seq object has a .count() method, just like a string\n",
        "\"AATTGTCA\".count('AT')"
      ],
      "execution_count": 7,
      "outputs": [
        {
          "output_type": "execute_result",
          "data": {
            "text/plain": [
              "1"
            ]
          },
          "metadata": {
            "tags": []
          },
          "execution_count": 7
        }
      ]
    },
    {
      "cell_type": "code",
      "metadata": {
        "colab": {
          "base_uri": "https://localhost:8080/"
        },
        "id": "Jvdrg2RBaAHJ",
        "outputId": "c1dcdf11-26e1-497e-a3e0-47802b50967c"
      },
      "source": [
        "# For some biological uses, you may actually want an overlapping count\n",
        "#  When searching for single letters, this makes no difference:\n",
        "\n",
        "# calculate a GC%\n",
        "\n",
        "my_seq = Seq(\"GATCGATGGGCCTATATAGGATCGAAAATCGC\")\n",
        "len(my_seq)\n",
        "# print(my_seq.count(\"G\"))\n",
        "GC_percent = 100 * float(my_seq.count(\"G\") + my_seq.count(\"C\")) / len(my_seq)\n",
        "print(GC_percent)"
      ],
      "execution_count": 12,
      "outputs": [
        {
          "output_type": "stream",
          "text": [
            "46.875\n"
          ],
          "name": "stdout"
        }
      ]
    },
    {
      "cell_type": "code",
      "metadata": {
        "colab": {
          "base_uri": "https://localhost:8080/"
        },
        "id": "D_i98V7Ta9gA",
        "outputId": "507e3690-16ab-4c89-b3d4-1a39bff5b6cf"
      },
      "source": [
        "# Bio.SeqUtils module has several GC functions already built. For example:\n",
        "\n",
        "from Bio.Seq import Seq\n",
        "from Bio.SeqUtils import GC\n",
        "my_seq = Seq(\"GATCGATGGGCCTATATAGGATCGAAAATCGC\")\n",
        "GC(my_seq)"
      ],
      "execution_count": 11,
      "outputs": [
        {
          "output_type": "execute_result",
          "data": {
            "text/plain": [
              "46.875"
            ]
          },
          "metadata": {
            "tags": []
          },
          "execution_count": 11
        }
      ]
    },
    {
      "cell_type": "markdown",
      "metadata": {
        "id": "Cz8GAVrpbaS5"
      },
      "source": [
        "# 3.2  Slicing a sequence"
      ]
    },
    {
      "cell_type": "code",
      "metadata": {
        "colab": {
          "base_uri": "https://localhost:8080/"
        },
        "id": "uVDouTZibgtZ",
        "outputId": "a276c53c-f6ee-4df0-f6d1-ea32d7a9ad69"
      },
      "source": [
        "my_seq = Seq(\"GATCGATGGGCCTATATAGGATCGAAAATCGC\")\n",
        "# my_seq[-1]\n",
        "my_seq[:5]\n"
      ],
      "execution_count": 22,
      "outputs": [
        {
          "output_type": "execute_result",
          "data": {
            "text/plain": [
              "Seq('GATCG')"
            ]
          },
          "metadata": {
            "tags": []
          },
          "execution_count": 22
        }
      ]
    },
    {
      "cell_type": "code",
      "metadata": {
        "colab": {
          "base_uri": "https://localhost:8080/"
        },
        "id": "qT7NRUgLeOFE",
        "outputId": "f25404d0-02d4-4f0d-99b7-7376ff2b67f9"
      },
      "source": [
        "# Also like a Python string, you can do slices with a start, \n",
        "# stop and stride (the step size, which defaults to one).\n",
        "#  For example, we can get the first, second and third codon positions of this DNA sequence:\n",
        "\n",
        "my_seq[0::3]\n"
      ],
      "execution_count": 23,
      "outputs": [
        {
          "output_type": "execute_result",
          "data": {
            "text/plain": [
              "Seq('GCTGTAGTAAG')"
            ]
          },
          "metadata": {
            "tags": []
          },
          "execution_count": 23
        }
      ]
    },
    {
      "cell_type": "code",
      "metadata": {
        "colab": {
          "base_uri": "https://localhost:8080/"
        },
        "id": "DxzzpmOWeUNa",
        "outputId": "6730724c-29df-4173-f337-72076ab63794"
      },
      "source": [
        "my_seq[1::3]"
      ],
      "execution_count": 25,
      "outputs": [
        {
          "output_type": "execute_result",
          "data": {
            "text/plain": [
              "Seq('AGGCATGCATC')"
            ]
          },
          "metadata": {
            "tags": []
          },
          "execution_count": 25
        }
      ]
    },
    {
      "cell_type": "code",
      "metadata": {
        "colab": {
          "base_uri": "https://localhost:8080/"
        },
        "id": "t9wIBOrteUtb",
        "outputId": "ef21f5c3-8808-4ac9-8643-6030c556b0d8"
      },
      "source": [
        "my_seq[2::3]"
      ],
      "execution_count": 24,
      "outputs": [
        {
          "output_type": "execute_result",
          "data": {
            "text/plain": [
              "Seq('TAGCTAAGAC')"
            ]
          },
          "metadata": {
            "tags": []
          },
          "execution_count": 24
        }
      ]
    },
    {
      "cell_type": "code",
      "metadata": {
        "colab": {
          "base_uri": "https://localhost:8080/"
        },
        "id": "iWIYobQmec1w",
        "outputId": "266f5e72-d4ef-4da0-eb2b-cb6f7b78c02e"
      },
      "source": [
        "# Another stride trick you might have seen with a Python string is the use of a -1 stride to reverse the string.\n",
        "#  You can do this with a Seq object too:\n",
        "\n",
        "my_seq[::-1]\n"
      ],
      "execution_count": 26,
      "outputs": [
        {
          "output_type": "execute_result",
          "data": {
            "text/plain": [
              "Seq('CGCTAAAAGCTAGGATATATCCGGGTAGCTAG')"
            ]
          },
          "metadata": {
            "tags": []
          },
          "execution_count": 26
        }
      ]
    },
    {
      "cell_type": "markdown",
      "metadata": {
        "id": "GDAsz66kfH4z"
      },
      "source": [
        "# 3.3  Turning Seq objects into strings"
      ]
    },
    {
      "cell_type": "code",
      "metadata": {
        "colab": {
          "base_uri": "https://localhost:8080/",
          "height": 52
        },
        "id": "W9qMK4GGfXUs",
        "outputId": "5ddcac75-844e-4513-fb97-ffc274686187"
      },
      "source": [
        "print(my_seq)\n",
        "str(my_seq)"
      ],
      "execution_count": 28,
      "outputs": [
        {
          "output_type": "stream",
          "text": [
            "GATCGATGGGCCTATATAGGATCGAAAATCGC\n"
          ],
          "name": "stdout"
        },
        {
          "output_type": "execute_result",
          "data": {
            "application/vnd.google.colaboratory.intrinsic+json": {
              "type": "string"
            },
            "text/plain": [
              "'GATCGATGGGCCTATATAGGATCGAAAATCGC'"
            ]
          },
          "metadata": {
            "tags": []
          },
          "execution_count": 28
        }
      ]
    },
    {
      "cell_type": "code",
      "metadata": {
        "colab": {
          "base_uri": "https://localhost:8080/"
        },
        "id": "V4G1hEnKfyuR",
        "outputId": "a30ccc47-af5d-4363-d78c-93fa065b54ea"
      },
      "source": [
        "fasta_format_string = \">Name\\n%s\\n\" % my_seq\n",
        "print(fasta_format_string)\n",
        "# f= \"mariya %s is good girl\" % my_seq\n",
        "print(f)"
      ],
      "execution_count": 32,
      "outputs": [
        {
          "output_type": "stream",
          "text": [
            ">Name\n",
            "GATCGATGGGCCTATATAGGATCGAAAATCGC\n",
            "\n",
            "mariya GATCGATGGGCCTATATAGGATCGAAAATCGC is good girl\n"
          ],
          "name": "stdout"
        }
      ]
    },
    {
      "cell_type": "markdown",
      "metadata": {
        "id": "yopVjwfwgaai"
      },
      "source": [
        "# 3.4  Concatenating or adding sequences"
      ]
    },
    {
      "cell_type": "code",
      "metadata": {
        "colab": {
          "base_uri": "https://localhost:8080/"
        },
        "id": "5xvPg9Q5k-4r",
        "outputId": "e3c4ce5c-a9a6-4d5a-89a8-b1befac05106"
      },
      "source": [
        "protein_seq = Seq(\"EVRNAK\")\n",
        "dna_seq = Seq(\"ACGT\")\n",
        "protein_seq + dna_seq"
      ],
      "execution_count": 33,
      "outputs": [
        {
          "output_type": "execute_result",
          "data": {
            "text/plain": [
              "Seq('EVRNAKACGT')"
            ]
          },
          "metadata": {
            "tags": []
          },
          "execution_count": 33
        }
      ]
    },
    {
      "cell_type": "code",
      "metadata": {
        "colab": {
          "base_uri": "https://localhost:8080/"
        },
        "id": "fsIvjKKMltDv",
        "outputId": "2a463014-14db-4e84-f223-7be5f86d5d2f"
      },
      "source": [
        "list_of_seqs = [Seq(\"ACGT\"), Seq(\"AACC\"), Seq(\"GGTT\")]\n",
        "concatenated = Seq(\"\")\n",
        "for i in list_of_seqs:\n",
        "  concatenated += i\n",
        "print(concatenated)"
      ],
      "execution_count": 36,
      "outputs": [
        {
          "output_type": "stream",
          "text": [
            "ACGTAACCGGTT\n"
          ],
          "name": "stdout"
        }
      ]
    },
    {
      "cell_type": "code",
      "metadata": {
        "colab": {
          "base_uri": "https://localhost:8080/"
        },
        "id": "9-Gc7W-Im8ba",
        "outputId": "5d55d0c7-671c-4467-91ba-9a4c0a2b1201"
      },
      "source": [
        "# Biopython Seq also has a .join method:\n",
        "\n",
        "list_of_seqs = [Seq(\"ACGT\"), Seq(\"AACC\"), Seq(\"GGTT\")]\n",
        "s=Seq(\"\")\n",
        "s.join(list_of_seqs)"
      ],
      "execution_count": 40,
      "outputs": [
        {
          "output_type": "execute_result",
          "data": {
            "text/plain": [
              "Seq('ACGTAACCGGTT')"
            ]
          },
          "metadata": {
            "tags": []
          },
          "execution_count": 40
        }
      ]
    },
    {
      "cell_type": "code",
      "metadata": {
        "colab": {
          "base_uri": "https://localhost:8080/"
        },
        "id": "OdH4ptaynsIV",
        "outputId": "c5270db5-bb41-4aae-9041-7218d466fdb0"
      },
      "source": [
        "list_of_seqs = [Seq(\"ACGT\"), Seq(\"AACC\"), Seq(\"GGTT\")]\n",
        "spacer = Seq(\"N\"*10)\n",
        "spacer.join(list_of_seqs)"
      ],
      "execution_count": 41,
      "outputs": [
        {
          "output_type": "execute_result",
          "data": {
            "text/plain": [
              "Seq('ACGTNNNNNNNNNNAACCNNNNNNNNNNGGTT')"
            ]
          },
          "metadata": {
            "tags": []
          },
          "execution_count": 41
        }
      ]
    },
    {
      "cell_type": "markdown",
      "metadata": {
        "id": "WfMVr2RKoIHP"
      },
      "source": [
        "# 3.5  Changing case"
      ]
    },
    {
      "cell_type": "code",
      "metadata": {
        "colab": {
          "base_uri": "https://localhost:8080/"
        },
        "id": "-ofNNLAZoLfx",
        "outputId": "b4a769d6-0c21-4b0f-d686-68c4ee8111c5"
      },
      "source": [
        "from Bio.Seq import Seq\n",
        "dna_seq = Seq(\"acgtACGT\")\n",
        "print(dna_seq.upper())\n",
        "print(dna_seq.lower())"
      ],
      "execution_count": 43,
      "outputs": [
        {
          "output_type": "stream",
          "text": [
            "ACGTACGT\n",
            "acgtacgt\n"
          ],
          "name": "stdout"
        }
      ]
    },
    {
      "cell_type": "code",
      "metadata": {
        "colab": {
          "base_uri": "https://localhost:8080/"
        },
        "id": "LjNOUxjQoby3",
        "outputId": "579656b4-7f62-4ef3-c43d-4b46b72a5533"
      },
      "source": [
        "# These are useful for doing case insensitive matching:\n",
        "\"GTAC\" in dna_seq"
      ],
      "execution_count": 44,
      "outputs": [
        {
          "output_type": "execute_result",
          "data": {
            "text/plain": [
              "False"
            ]
          },
          "metadata": {
            "tags": []
          },
          "execution_count": 44
        }
      ]
    },
    {
      "cell_type": "code",
      "metadata": {
        "colab": {
          "base_uri": "https://localhost:8080/"
        },
        "id": "j-zJl3MTogkJ",
        "outputId": "24ff54cd-c9ac-428f-a8b8-edf737eaa984"
      },
      "source": [
        "\"GTAC\" in dna_seq.upper()"
      ],
      "execution_count": 46,
      "outputs": [
        {
          "output_type": "execute_result",
          "data": {
            "text/plain": [
              "True"
            ]
          },
          "metadata": {
            "tags": []
          },
          "execution_count": 46
        }
      ]
    },
    {
      "cell_type": "markdown",
      "metadata": {
        "id": "aaXooHJhpPxy"
      },
      "source": [
        "# 3.6  Nucleotide sequences and (reverse) complements"
      ]
    },
    {
      "cell_type": "code",
      "metadata": {
        "colab": {
          "base_uri": "https://localhost:8080/"
        },
        "id": "DwiKr-J8pRBJ",
        "outputId": "e4bd719f-787d-4684-df23-1729516f83ba"
      },
      "source": [
        "# For nucleotide sequences, you can easily obtain the complement or reverse complement of a Seq object using its built-in methods:\n",
        "from Bio.Seq import Seq\n",
        "my_seq = Seq(\"GATCGATGGGCCTATATAGGATCGAAAATCGC\")\n",
        "my_seq.complement()\n"
      ],
      "execution_count": 47,
      "outputs": [
        {
          "output_type": "execute_result",
          "data": {
            "text/plain": [
              "Seq('CTAGCTACCCGGATATATCCTAGCTTTTAGCG')"
            ]
          },
          "metadata": {
            "tags": []
          },
          "execution_count": 47
        }
      ]
    },
    {
      "cell_type": "code",
      "metadata": {
        "colab": {
          "base_uri": "https://localhost:8080/"
        },
        "id": "IkGDX21crQxq",
        "outputId": "6336c497-2acb-48c2-9381-4872041c762d"
      },
      "source": [
        "my_seq.reverse_complement()"
      ],
      "execution_count": 48,
      "outputs": [
        {
          "output_type": "execute_result",
          "data": {
            "text/plain": [
              "Seq('GCGATTTTCGATCCTATATAGGCCCATCGATC')"
            ]
          },
          "metadata": {
            "tags": []
          },
          "execution_count": 48
        }
      ]
    },
    {
      "cell_type": "code",
      "metadata": {
        "colab": {
          "base_uri": "https://localhost:8080/"
        },
        "id": "vJcVcXb4rYo_",
        "outputId": "47ff1c11-33db-4199-f28e-1276cc65e54f"
      },
      "source": [
        "# As mentioned earlier, an easy way to just reverse a Seq object (or a Python string) is slice it with -1 step:\n",
        "my_seq[::-1]"
      ],
      "execution_count": 50,
      "outputs": [
        {
          "output_type": "execute_result",
          "data": {
            "text/plain": [
              "Seq('CGCTAAAAGCTAGGATATATCCGGGTAGCTAG')"
            ]
          },
          "metadata": {
            "tags": []
          },
          "execution_count": 50
        }
      ]
    }
  ]
}